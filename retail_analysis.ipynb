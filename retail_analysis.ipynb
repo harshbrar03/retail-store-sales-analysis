{
 "cells": [
  {
   "cell_type": "markdown",
   "id": "04670231",
   "metadata": {},
   "source": [
    "# <b>Retail Store Analysis</b>"
   ]
  },
  {
   "cell_type": "markdown",
   "id": "1defb53b",
   "metadata": {},
   "source": [
    "Downloading dataset using kaggle API"
   ]
  },
  {
   "cell_type": "code",
   "execution_count": 20,
   "id": "f03cc971",
   "metadata": {},
   "outputs": [
    {
     "name": "stdout",
     "output_type": "stream",
     "text": [
      "Dataset URL: https://www.kaggle.com/datasets/ankitbansal06/retail-orders\n",
      "License(s): CC0-1.0\n",
      "retail-orders.zip: Skipping, found more recently modified local copy (use --force to force download)\n"
     ]
    }
   ],
   "source": [
    "# %pip install kaggle\n",
    "import kaggle\n",
    "!kaggle datasets download -d ankitbansal06/retail-orders"
   ]
  },
  {
   "cell_type": "markdown",
   "id": "9db30ca6",
   "metadata": {},
   "source": [
    "Extracting the file from the zip folder"
   ]
  },
  {
   "cell_type": "code",
   "execution_count": 21,
   "id": "1bf3283b",
   "metadata": {},
   "outputs": [],
   "source": [
    "import zipfile\n",
    "zip_ref = zipfile.ZipFile('retail-orders.zip')\n",
    "zip_ref.extractall()    # extracts file to dir\n",
    "zip_ref.close()         # closes the file"
   ]
  },
  {
   "cell_type": "markdown",
   "id": "6ace0fb5",
   "metadata": {},
   "source": [
    "Reading the csv file using pandas"
   ]
  },
  {
   "cell_type": "code",
   "execution_count": 22,
   "id": "ff8769ca",
   "metadata": {},
   "outputs": [
    {
     "data": {
      "application/vnd.microsoft.datawrangler.viewer.v0+json": {
       "columns": [
        {
         "name": "index",
         "rawType": "int64",
         "type": "integer"
        },
        {
         "name": "Order Id",
         "rawType": "int64",
         "type": "integer"
        },
        {
         "name": "Order Date",
         "rawType": "object",
         "type": "string"
        },
        {
         "name": "Ship Mode",
         "rawType": "object",
         "type": "unknown"
        },
        {
         "name": "Segment",
         "rawType": "object",
         "type": "string"
        },
        {
         "name": "Country",
         "rawType": "object",
         "type": "string"
        },
        {
         "name": "City",
         "rawType": "object",
         "type": "string"
        },
        {
         "name": "State",
         "rawType": "object",
         "type": "string"
        },
        {
         "name": "Postal Code",
         "rawType": "int64",
         "type": "integer"
        },
        {
         "name": "Region",
         "rawType": "object",
         "type": "string"
        },
        {
         "name": "Category",
         "rawType": "object",
         "type": "string"
        },
        {
         "name": "Sub Category",
         "rawType": "object",
         "type": "string"
        },
        {
         "name": "Product Id",
         "rawType": "object",
         "type": "string"
        },
        {
         "name": "cost price",
         "rawType": "int64",
         "type": "integer"
        },
        {
         "name": "List Price",
         "rawType": "int64",
         "type": "integer"
        },
        {
         "name": "Quantity",
         "rawType": "int64",
         "type": "integer"
        },
        {
         "name": "Discount Percent",
         "rawType": "int64",
         "type": "integer"
        }
       ],
       "ref": "b0861833-413d-4355-9a81-3c411b8929cb",
       "rows": [
        [
         "0",
         "1",
         "2023-03-01",
         "Second Class",
         "Consumer",
         "United States",
         "Henderson",
         "Kentucky",
         "42420",
         "South",
         "Furniture",
         "Bookcases",
         "FUR-BO-10001798",
         "240",
         "260",
         "2",
         "2"
        ],
        [
         "1",
         "2",
         "2023-08-15",
         "Second Class",
         "Consumer",
         "United States",
         "Henderson",
         "Kentucky",
         "42420",
         "South",
         "Furniture",
         "Chairs",
         "FUR-CH-10000454",
         "600",
         "730",
         "3",
         "3"
        ],
        [
         "2",
         "3",
         "2023-01-10",
         "Second Class",
         "Corporate",
         "United States",
         "Los Angeles",
         "California",
         "90036",
         "West",
         "Office Supplies",
         "Labels",
         "OFF-LA-10000240",
         "10",
         "10",
         "2",
         "5"
        ],
        [
         "3",
         "4",
         "2022-06-18",
         "Standard Class",
         "Consumer",
         "United States",
         "Fort Lauderdale",
         "Florida",
         "33311",
         "South",
         "Furniture",
         "Tables",
         "FUR-TA-10000577",
         "780",
         "960",
         "5",
         "2"
        ],
        [
         "4",
         "5",
         "2022-07-13",
         "Standard Class",
         "Consumer",
         "United States",
         "Fort Lauderdale",
         "Florida",
         "33311",
         "South",
         "Office Supplies",
         "Storage",
         "OFF-ST-10000760",
         "20",
         "20",
         "2",
         "5"
        ],
        [
         "5",
         "6",
         "2022-03-13",
         "Not Available",
         "Consumer",
         "United States",
         "Los Angeles",
         "California",
         "90032",
         "West",
         "Furniture",
         "Furnishings",
         "FUR-FU-10001487",
         "50",
         "50",
         "7",
         "3"
        ],
        [
         "6",
         "7",
         "2022-12-28",
         "Standard Class",
         "Consumer",
         "United States",
         "Los Angeles",
         "California",
         "90032",
         "West",
         "Office Supplies",
         "Art",
         "OFF-AR-10002833",
         "10",
         "10",
         "4",
         "3"
        ],
        [
         "7",
         "8",
         "2022-01-25",
         "Standard Class",
         "Consumer",
         "United States",
         "Los Angeles",
         "California",
         "90032",
         "West",
         "Technology",
         "Phones",
         "TEC-PH-10002275",
         "860",
         "910",
         "6",
         "5"
        ],
        [
         "8",
         "9",
         "2023-03-23",
         "Not Available",
         "Consumer",
         "United States",
         "Los Angeles",
         "California",
         "90032",
         "West",
         "Office Supplies",
         "Binders",
         "OFF-BI-10003910",
         "20",
         "20",
         "3",
         "2"
        ],
        [
         "9",
         "10",
         "2023-05-16",
         "Standard Class",
         "Consumer",
         "United States",
         "Los Angeles",
         "California",
         "90032",
         "West",
         "Office Supplies",
         "Appliances",
         "OFF-AP-10002892",
         "90",
         "110",
         "5",
         "3"
        ],
        [
         "10",
         "11",
         "2023-03-31",
         "Not Available",
         "Consumer",
         "United States",
         "Los Angeles",
         "California",
         "90032",
         "West",
         "Furniture",
         "Tables",
         "FUR-TA-10001539",
         "1470",
         "1710",
         "9",
         "3"
        ],
        [
         "11",
         "12",
         "2023-12-25",
         "Not Available",
         "Consumer",
         "United States",
         "Los Angeles",
         "California",
         "90032",
         "West",
         "Technology",
         "Phones",
         "TEC-PH-10002033",
         "750",
         "910",
         "4",
         "3"
        ],
        [
         "12",
         "13",
         "2022-02-11",
         "Standard Class",
         "Consumer",
         "United States",
         "Concord",
         "North Carolina",
         "28027",
         "South",
         "Office Supplies",
         "Paper",
         "OFF-PA-10002365",
         "20",
         "20",
         "3",
         "3"
        ],
        [
         "13",
         "14",
         "2023-07-18",
         "Standard Class",
         "Consumer",
         "United States",
         "Seattle",
         "Washington",
         "98103",
         "West",
         "Office Supplies",
         "Binders",
         "OFF-BI-10003656",
         "360",
         "410",
         "3",
         "2"
        ],
        [
         "14",
         "15",
         "2023-11-09",
         "unknown",
         "Home Office",
         "United States",
         "Fort Worth",
         "Texas",
         "76106",
         "Central",
         "Office Supplies",
         "Appliances",
         "OFF-AP-10002311",
         "60",
         "70",
         "5",
         "5"
        ],
        [
         "15",
         "16",
         "2022-06-18",
         "Standard Class",
         "Home Office",
         "United States",
         "Fort Worth",
         "Texas",
         "76106",
         "Central",
         "Office Supplies",
         "Binders",
         "OFF-BI-10000756",
         "0",
         "0",
         "3",
         "5"
        ],
        [
         "16",
         "17",
         "2022-02-04",
         "Standard Class",
         "Consumer",
         "United States",
         "Madison",
         "Wisconsin",
         "53711",
         "Central",
         "Office Supplies",
         "Storage",
         "OFF-ST-10004186",
         "610",
         "670",
         "6",
         "3"
        ],
        [
         "17",
         "18",
         "2023-08-04",
         "Second Class",
         "Consumer",
         "United States",
         "West Jordan",
         "Utah",
         "84084",
         "West",
         "Office Supplies",
         "Storage",
         "OFF-ST-10000107",
         "60",
         "60",
         "2",
         "4"
        ],
        [
         "18",
         "19",
         "2022-01-23",
         "Second Class",
         "Consumer",
         "United States",
         "San Francisco",
         "California",
         "94109",
         "West",
         "Office Supplies",
         "Art",
         "OFF-AR-10003056",
         "10",
         "10",
         "2",
         "4"
        ],
        [
         "19",
         "20",
         "2022-01-11",
         "Second Class",
         "Consumer",
         "United States",
         "San Francisco",
         "California",
         "94109",
         "West",
         "Technology",
         "Phones",
         "TEC-PH-10001949",
         "170",
         "210",
         "3",
         "3"
        ],
        [
         "20",
         "21",
         "2022-10-05",
         "Second Class",
         "Consumer",
         "United States",
         "San Francisco",
         "California",
         "94109",
         "West",
         "Office Supplies",
         "Binders",
         "OFF-BI-10002215",
         "20",
         "20",
         "4",
         "2"
        ],
        [
         "21",
         "22",
         "2023-07-16",
         "Standard Class",
         "Corporate",
         "United States",
         "Fremont",
         "Nebraska",
         "68025",
         "Central",
         "Office Supplies",
         "Art",
         "OFF-AR-10000246",
         "20",
         "20",
         "7",
         "4"
        ],
        [
         "22",
         "23",
         "2023-05-06",
         "Standard Class",
         "Corporate",
         "United States",
         "Fremont",
         "Nebraska",
         "68025",
         "Central",
         "Office Supplies",
         "Appliances",
         "OFF-AP-10001492",
         "50",
         "60",
         "7",
         "3"
        ],
        [
         "23",
         "24",
         "2023-05-21",
         "Second Class",
         "Consumer",
         "United States",
         "Philadelphia",
         "Pennsylvania",
         "19140",
         "East",
         "Furniture",
         "Chairs",
         "FUR-CH-10002774",
         "60",
         "70",
         "2",
         "4"
        ],
        [
         "24",
         "25",
         "2023-02-24",
         "Standard Class",
         "Consumer",
         "United States",
         "Orem",
         "Utah",
         "84057",
         "West",
         "Furniture",
         "Tables",
         "FUR-TA-10000577",
         "900",
         "1040",
         "3",
         "5"
        ],
        [
         "25",
         "26",
         "2022-06-20",
         "Second Class",
         "Consumer",
         "United States",
         "Los Angeles",
         "California",
         "90049",
         "West",
         "Office Supplies",
         "Binders",
         "OFF-BI-10001634",
         "10",
         "10",
         "2",
         "5"
        ],
        [
         "26",
         "27",
         "2022-02-08",
         "Second Class",
         "Consumer",
         "United States",
         "Los Angeles",
         "California",
         "90049",
         "West",
         "Technology",
         "Accessories",
         "TEC-AC-10003027",
         "80",
         "90",
         "3",
         "3"
        ],
        [
         "27",
         "28",
         "2023-12-11",
         "Standard Class",
         "Consumer",
         "United States",
         "Philadelphia",
         "Pennsylvania",
         "19140",
         "East",
         "Furniture",
         "Bookcases",
         "FUR-BO-10004834",
         "2740",
         "3080",
         "7",
         "3"
        ],
        [
         "28",
         "29",
         "2022-08-21",
         "Standard Class",
         "Consumer",
         "United States",
         "Philadelphia",
         "Pennsylvania",
         "19140",
         "East",
         "Office Supplies",
         "Binders",
         "OFF-BI-10000474",
         "10",
         "10",
         "2",
         "5"
        ],
        [
         "29",
         "30",
         "2022-08-14",
         "Standard Class",
         "Consumer",
         "United States",
         "Philadelphia",
         "Pennsylvania",
         "19140",
         "East",
         "Furniture",
         "Furnishings",
         "FUR-FU-10004848",
         "100",
         "120",
         "3",
         "4"
        ],
        [
         "30",
         "31",
         "2022-11-20",
         "Standard Class",
         "Consumer",
         "United States",
         "Philadelphia",
         "Pennsylvania",
         "19140",
         "East",
         "Office Supplies",
         "Envelopes",
         "OFF-EN-10001509",
         "0",
         "0",
         "2",
         "5"
        ],
        [
         "31",
         "32",
         "2023-01-19",
         "Standard Class",
         "Consumer",
         "United States",
         "Philadelphia",
         "Pennsylvania",
         "19140",
         "East",
         "Office Supplies",
         "Art",
         "OFF-AR-10004042",
         "70",
         "90",
         "6",
         "4"
        ],
        [
         "32",
         "33",
         "2023-01-30",
         "Standard Class",
         "Consumer",
         "United States",
         "Philadelphia",
         "Pennsylvania",
         "19140",
         "East",
         "Office Supplies",
         "Binders",
         "OFF-BI-10001525",
         "10",
         "10",
         "6",
         "5"
        ],
        [
         "33",
         "34",
         "2022-06-03",
         "Standard Class",
         "Consumer",
         "United States",
         "Philadelphia",
         "Pennsylvania",
         "19140",
         "East",
         "Office Supplies",
         "Art",
         "OFF-AR-10001683",
         "20",
         "20",
         "2",
         "4"
        ],
        [
         "34",
         "35",
         "2022-09-28",
         "Second Class",
         "Home Office",
         "United States",
         "Houston",
         "Texas",
         "77095",
         "Central",
         "Office Supplies",
         "Paper",
         "OFF-PA-10000249",
         "30",
         "30",
         "3",
         "3"
        ],
        [
         "35",
         "36",
         "2022-10-30",
         "First Class",
         "Corporate",
         "United States",
         "Richardson",
         "Texas",
         "75080",
         "Central",
         "Technology",
         "Phones",
         "TEC-PH-10004977",
         "1020",
         "1100",
         "7",
         "5"
        ],
        [
         "36",
         "37",
         "2023-07-27",
         "First Class",
         "Corporate",
         "United States",
         "Richardson",
         "Texas",
         "75080",
         "Central",
         "Furniture",
         "Furnishings",
         "FUR-FU-10003664",
         "180",
         "190",
         "5",
         "4"
        ],
        [
         "37",
         "38",
         "2023-03-07",
         "Standard Class",
         "Home Office",
         "United States",
         "Houston",
         "Texas",
         "77041",
         "Central",
         "Office Supplies",
         "Envelopes",
         "OFF-EN-10002986",
         "90",
         "110",
         "9",
         "2"
        ],
        [
         "38",
         "39",
         "2023-08-18",
         "Standard Class",
         "Home Office",
         "United States",
         "Houston",
         "Texas",
         "77041",
         "Central",
         "Furniture",
         "Bookcases",
         "FUR-BO-10002545",
         "460",
         "530",
         "3",
         "2"
        ],
        [
         "39",
         "40",
         "2022-01-20",
         "Standard Class",
         "Home Office",
         "United States",
         "Houston",
         "Texas",
         "77041",
         "Central",
         "Furniture",
         "Chairs",
         "FUR-CH-10004218",
         "200",
         "210",
         "3",
         "2"
        ],
        [
         "40",
         "41",
         "2023-06-29",
         "Standard Class",
         "Home Office",
         "United States",
         "Houston",
         "Texas",
         "77041",
         "Central",
         "Technology",
         "Phones",
         "TEC-PH-10000486",
         "350",
         "370",
         "4",
         "5"
        ],
        [
         "41",
         "42",
         "2022-06-28",
         "Standard Class",
         "Corporate",
         "United States",
         "Naperville",
         "Illinois",
         "60540",
         "Central",
         "Technology",
         "Phones",
         "TEC-PH-10004093",
         "140",
         "150",
         "4",
         "3"
        ],
        [
         "42",
         "43",
         "2023-02-09",
         "Standard Class",
         "Corporate",
         "United States",
         "Los Angeles",
         "California",
         "90049",
         "West",
         "Office Supplies",
         "Storage",
         "OFF-ST-10003479",
         "70",
         "80",
         "2",
         "5"
        ],
        [
         "43",
         "44",
         "2023-09-18",
         "Standard Class",
         "Corporate",
         "United States",
         "Melbourne",
         "Florida",
         "32935",
         "South",
         "Office Supplies",
         "Storage",
         "OFF-ST-10003282",
         "90",
         "100",
         "2",
         "4"
        ],
        [
         "44",
         "45",
         "2022-11-11",
         "First Class",
         "Corporate",
         "United States",
         "Eagan",
         "Minnesota",
         "55122",
         "Central",
         "Technology",
         "Accessories",
         "TEC-AC-10000171",
         "40",
         "50",
         "2",
         "2"
        ],
        [
         "45",
         "46",
         "2022-05-27",
         "First Class",
         "Corporate",
         "United States",
         "Eagan",
         "Minnesota",
         "55122",
         "Central",
         "Office Supplies",
         "Binders",
         "OFF-BI-10003291",
         "20",
         "20",
         "2",
         "5"
        ],
        [
         "46",
         "47",
         "2023-02-03",
         "Second Class",
         "Consumer",
         "United States",
         "Westland",
         "Michigan",
         "48185",
         "Central",
         "Office Supplies",
         "Storage",
         "OFF-ST-10001713",
         "180",
         "210",
         "4",
         "4"
        ],
        [
         "47",
         "48",
         "2022-02-16",
         "Standard Class",
         "Consumer",
         "United States",
         "Dover",
         "Delaware",
         "19901",
         "East",
         "Technology",
         "Accessories",
         "TEC-AC-10002167",
         "50",
         "50",
         "3",
         "5"
        ],
        [
         "48",
         "49",
         "2022-05-06",
         "Standard Class",
         "Consumer",
         "United States",
         "Dover",
         "Delaware",
         "19901",
         "East",
         "Technology",
         "Phones",
         "TEC-PH-10003988",
         "20",
         "20",
         "2",
         "4"
        ],
        [
         "49",
         "50",
         "2023-06-18",
         "Standard Class",
         "Consumer",
         "United States",
         "New Albany",
         "Indiana",
         "47150",
         "Central",
         "Office Supplies",
         "Binders",
         "OFF-BI-10004410",
         "30",
         "40",
         "6",
         "4"
        ]
       ],
       "shape": {
        "columns": 16,
        "rows": 9994
       }
      },
      "text/html": [
       "<div>\n",
       "<style scoped>\n",
       "    .dataframe tbody tr th:only-of-type {\n",
       "        vertical-align: middle;\n",
       "    }\n",
       "\n",
       "    .dataframe tbody tr th {\n",
       "        vertical-align: top;\n",
       "    }\n",
       "\n",
       "    .dataframe thead th {\n",
       "        text-align: right;\n",
       "    }\n",
       "</style>\n",
       "<table border=\"1\" class=\"dataframe\">\n",
       "  <thead>\n",
       "    <tr style=\"text-align: right;\">\n",
       "      <th></th>\n",
       "      <th>Order Id</th>\n",
       "      <th>Order Date</th>\n",
       "      <th>Ship Mode</th>\n",
       "      <th>Segment</th>\n",
       "      <th>Country</th>\n",
       "      <th>City</th>\n",
       "      <th>State</th>\n",
       "      <th>Postal Code</th>\n",
       "      <th>Region</th>\n",
       "      <th>Category</th>\n",
       "      <th>Sub Category</th>\n",
       "      <th>Product Id</th>\n",
       "      <th>cost price</th>\n",
       "      <th>List Price</th>\n",
       "      <th>Quantity</th>\n",
       "      <th>Discount Percent</th>\n",
       "    </tr>\n",
       "  </thead>\n",
       "  <tbody>\n",
       "    <tr>\n",
       "      <th>0</th>\n",
       "      <td>1</td>\n",
       "      <td>2023-03-01</td>\n",
       "      <td>Second Class</td>\n",
       "      <td>Consumer</td>\n",
       "      <td>United States</td>\n",
       "      <td>Henderson</td>\n",
       "      <td>Kentucky</td>\n",
       "      <td>42420</td>\n",
       "      <td>South</td>\n",
       "      <td>Furniture</td>\n",
       "      <td>Bookcases</td>\n",
       "      <td>FUR-BO-10001798</td>\n",
       "      <td>240</td>\n",
       "      <td>260</td>\n",
       "      <td>2</td>\n",
       "      <td>2</td>\n",
       "    </tr>\n",
       "    <tr>\n",
       "      <th>1</th>\n",
       "      <td>2</td>\n",
       "      <td>2023-08-15</td>\n",
       "      <td>Second Class</td>\n",
       "      <td>Consumer</td>\n",
       "      <td>United States</td>\n",
       "      <td>Henderson</td>\n",
       "      <td>Kentucky</td>\n",
       "      <td>42420</td>\n",
       "      <td>South</td>\n",
       "      <td>Furniture</td>\n",
       "      <td>Chairs</td>\n",
       "      <td>FUR-CH-10000454</td>\n",
       "      <td>600</td>\n",
       "      <td>730</td>\n",
       "      <td>3</td>\n",
       "      <td>3</td>\n",
       "    </tr>\n",
       "    <tr>\n",
       "      <th>2</th>\n",
       "      <td>3</td>\n",
       "      <td>2023-01-10</td>\n",
       "      <td>Second Class</td>\n",
       "      <td>Corporate</td>\n",
       "      <td>United States</td>\n",
       "      <td>Los Angeles</td>\n",
       "      <td>California</td>\n",
       "      <td>90036</td>\n",
       "      <td>West</td>\n",
       "      <td>Office Supplies</td>\n",
       "      <td>Labels</td>\n",
       "      <td>OFF-LA-10000240</td>\n",
       "      <td>10</td>\n",
       "      <td>10</td>\n",
       "      <td>2</td>\n",
       "      <td>5</td>\n",
       "    </tr>\n",
       "    <tr>\n",
       "      <th>3</th>\n",
       "      <td>4</td>\n",
       "      <td>2022-06-18</td>\n",
       "      <td>Standard Class</td>\n",
       "      <td>Consumer</td>\n",
       "      <td>United States</td>\n",
       "      <td>Fort Lauderdale</td>\n",
       "      <td>Florida</td>\n",
       "      <td>33311</td>\n",
       "      <td>South</td>\n",
       "      <td>Furniture</td>\n",
       "      <td>Tables</td>\n",
       "      <td>FUR-TA-10000577</td>\n",
       "      <td>780</td>\n",
       "      <td>960</td>\n",
       "      <td>5</td>\n",
       "      <td>2</td>\n",
       "    </tr>\n",
       "    <tr>\n",
       "      <th>4</th>\n",
       "      <td>5</td>\n",
       "      <td>2022-07-13</td>\n",
       "      <td>Standard Class</td>\n",
       "      <td>Consumer</td>\n",
       "      <td>United States</td>\n",
       "      <td>Fort Lauderdale</td>\n",
       "      <td>Florida</td>\n",
       "      <td>33311</td>\n",
       "      <td>South</td>\n",
       "      <td>Office Supplies</td>\n",
       "      <td>Storage</td>\n",
       "      <td>OFF-ST-10000760</td>\n",
       "      <td>20</td>\n",
       "      <td>20</td>\n",
       "      <td>2</td>\n",
       "      <td>5</td>\n",
       "    </tr>\n",
       "    <tr>\n",
       "      <th>...</th>\n",
       "      <td>...</td>\n",
       "      <td>...</td>\n",
       "      <td>...</td>\n",
       "      <td>...</td>\n",
       "      <td>...</td>\n",
       "      <td>...</td>\n",
       "      <td>...</td>\n",
       "      <td>...</td>\n",
       "      <td>...</td>\n",
       "      <td>...</td>\n",
       "      <td>...</td>\n",
       "      <td>...</td>\n",
       "      <td>...</td>\n",
       "      <td>...</td>\n",
       "      <td>...</td>\n",
       "      <td>...</td>\n",
       "    </tr>\n",
       "    <tr>\n",
       "      <th>9989</th>\n",
       "      <td>9990</td>\n",
       "      <td>2023-02-18</td>\n",
       "      <td>Second Class</td>\n",
       "      <td>Consumer</td>\n",
       "      <td>United States</td>\n",
       "      <td>Miami</td>\n",
       "      <td>Florida</td>\n",
       "      <td>33180</td>\n",
       "      <td>South</td>\n",
       "      <td>Furniture</td>\n",
       "      <td>Furnishings</td>\n",
       "      <td>FUR-FU-10001889</td>\n",
       "      <td>30</td>\n",
       "      <td>30</td>\n",
       "      <td>3</td>\n",
       "      <td>4</td>\n",
       "    </tr>\n",
       "    <tr>\n",
       "      <th>9990</th>\n",
       "      <td>9991</td>\n",
       "      <td>2023-03-17</td>\n",
       "      <td>Standard Class</td>\n",
       "      <td>Consumer</td>\n",
       "      <td>United States</td>\n",
       "      <td>Costa Mesa</td>\n",
       "      <td>California</td>\n",
       "      <td>92627</td>\n",
       "      <td>West</td>\n",
       "      <td>Furniture</td>\n",
       "      <td>Furnishings</td>\n",
       "      <td>FUR-FU-10000747</td>\n",
       "      <td>70</td>\n",
       "      <td>90</td>\n",
       "      <td>2</td>\n",
       "      <td>4</td>\n",
       "    </tr>\n",
       "    <tr>\n",
       "      <th>9991</th>\n",
       "      <td>9992</td>\n",
       "      <td>2022-08-07</td>\n",
       "      <td>Standard Class</td>\n",
       "      <td>Consumer</td>\n",
       "      <td>United States</td>\n",
       "      <td>Costa Mesa</td>\n",
       "      <td>California</td>\n",
       "      <td>92627</td>\n",
       "      <td>West</td>\n",
       "      <td>Technology</td>\n",
       "      <td>Phones</td>\n",
       "      <td>TEC-PH-10003645</td>\n",
       "      <td>220</td>\n",
       "      <td>260</td>\n",
       "      <td>2</td>\n",
       "      <td>2</td>\n",
       "    </tr>\n",
       "    <tr>\n",
       "      <th>9992</th>\n",
       "      <td>9993</td>\n",
       "      <td>2022-11-19</td>\n",
       "      <td>Standard Class</td>\n",
       "      <td>Consumer</td>\n",
       "      <td>United States</td>\n",
       "      <td>Costa Mesa</td>\n",
       "      <td>California</td>\n",
       "      <td>92627</td>\n",
       "      <td>West</td>\n",
       "      <td>Office Supplies</td>\n",
       "      <td>Paper</td>\n",
       "      <td>OFF-PA-10004041</td>\n",
       "      <td>30</td>\n",
       "      <td>30</td>\n",
       "      <td>4</td>\n",
       "      <td>3</td>\n",
       "    </tr>\n",
       "    <tr>\n",
       "      <th>9993</th>\n",
       "      <td>9994</td>\n",
       "      <td>2022-07-17</td>\n",
       "      <td>Second Class</td>\n",
       "      <td>Consumer</td>\n",
       "      <td>United States</td>\n",
       "      <td>Westminster</td>\n",
       "      <td>California</td>\n",
       "      <td>92683</td>\n",
       "      <td>West</td>\n",
       "      <td>Office Supplies</td>\n",
       "      <td>Appliances</td>\n",
       "      <td>OFF-AP-10002684</td>\n",
       "      <td>210</td>\n",
       "      <td>240</td>\n",
       "      <td>2</td>\n",
       "      <td>3</td>\n",
       "    </tr>\n",
       "  </tbody>\n",
       "</table>\n",
       "<p>9994 rows × 16 columns</p>\n",
       "</div>"
      ],
      "text/plain": [
       "      Order Id  Order Date       Ship Mode    Segment        Country  \\\n",
       "0            1  2023-03-01    Second Class   Consumer  United States   \n",
       "1            2  2023-08-15    Second Class   Consumer  United States   \n",
       "2            3  2023-01-10    Second Class  Corporate  United States   \n",
       "3            4  2022-06-18  Standard Class   Consumer  United States   \n",
       "4            5  2022-07-13  Standard Class   Consumer  United States   \n",
       "...        ...         ...             ...        ...            ...   \n",
       "9989      9990  2023-02-18    Second Class   Consumer  United States   \n",
       "9990      9991  2023-03-17  Standard Class   Consumer  United States   \n",
       "9991      9992  2022-08-07  Standard Class   Consumer  United States   \n",
       "9992      9993  2022-11-19  Standard Class   Consumer  United States   \n",
       "9993      9994  2022-07-17    Second Class   Consumer  United States   \n",
       "\n",
       "                 City       State  Postal Code Region         Category  \\\n",
       "0           Henderson    Kentucky        42420  South        Furniture   \n",
       "1           Henderson    Kentucky        42420  South        Furniture   \n",
       "2         Los Angeles  California        90036   West  Office Supplies   \n",
       "3     Fort Lauderdale     Florida        33311  South        Furniture   \n",
       "4     Fort Lauderdale     Florida        33311  South  Office Supplies   \n",
       "...               ...         ...          ...    ...              ...   \n",
       "9989            Miami     Florida        33180  South        Furniture   \n",
       "9990       Costa Mesa  California        92627   West        Furniture   \n",
       "9991       Costa Mesa  California        92627   West       Technology   \n",
       "9992       Costa Mesa  California        92627   West  Office Supplies   \n",
       "9993      Westminster  California        92683   West  Office Supplies   \n",
       "\n",
       "     Sub Category       Product Id  cost price  List Price  Quantity  \\\n",
       "0       Bookcases  FUR-BO-10001798         240         260         2   \n",
       "1          Chairs  FUR-CH-10000454         600         730         3   \n",
       "2          Labels  OFF-LA-10000240          10          10         2   \n",
       "3          Tables  FUR-TA-10000577         780         960         5   \n",
       "4         Storage  OFF-ST-10000760          20          20         2   \n",
       "...           ...              ...         ...         ...       ...   \n",
       "9989  Furnishings  FUR-FU-10001889          30          30         3   \n",
       "9990  Furnishings  FUR-FU-10000747          70          90         2   \n",
       "9991       Phones  TEC-PH-10003645         220         260         2   \n",
       "9992        Paper  OFF-PA-10004041          30          30         4   \n",
       "9993   Appliances  OFF-AP-10002684         210         240         2   \n",
       "\n",
       "      Discount Percent  \n",
       "0                    2  \n",
       "1                    3  \n",
       "2                    5  \n",
       "3                    2  \n",
       "4                    5  \n",
       "...                ...  \n",
       "9989                 4  \n",
       "9990                 4  \n",
       "9991                 2  \n",
       "9992                 3  \n",
       "9993                 3  \n",
       "\n",
       "[9994 rows x 16 columns]"
      ]
     },
     "execution_count": 22,
     "metadata": {},
     "output_type": "execute_result"
    }
   ],
   "source": [
    "# %pip install pandas as pd\n",
    "import pandas as pd\n",
    "df = pd.read_csv('orders.csv')\n",
    "df"
   ]
  },
  {
   "cell_type": "markdown",
   "id": "080a38b0",
   "metadata": {},
   "source": [
    "## <b>Data Transformation</b>"
   ]
  },
  {
   "cell_type": "markdown",
   "id": "bb52b21b",
   "metadata": {},
   "source": [
    "Checking the datatypes of all the features (columns)"
   ]
  },
  {
   "cell_type": "code",
   "execution_count": 23,
   "id": "c7edb531",
   "metadata": {},
   "outputs": [
    {
     "data": {
      "application/vnd.microsoft.datawrangler.viewer.v0+json": {
       "columns": [
        {
         "name": "index",
         "rawType": "object",
         "type": "string"
        },
        {
         "name": "0",
         "rawType": "object",
         "type": "unknown"
        }
       ],
       "ref": "e38eb09c-fe71-4fc8-9215-d3a34150123f",
       "rows": [
        [
         "Order Id",
         "int64"
        ],
        [
         "Order Date",
         "object"
        ],
        [
         "Ship Mode",
         "object"
        ],
        [
         "Segment",
         "object"
        ],
        [
         "Country",
         "object"
        ],
        [
         "City",
         "object"
        ],
        [
         "State",
         "object"
        ],
        [
         "Postal Code",
         "int64"
        ],
        [
         "Region",
         "object"
        ],
        [
         "Category",
         "object"
        ],
        [
         "Sub Category",
         "object"
        ],
        [
         "Product Id",
         "object"
        ],
        [
         "cost price",
         "int64"
        ],
        [
         "List Price",
         "int64"
        ],
        [
         "Quantity",
         "int64"
        ],
        [
         "Discount Percent",
         "int64"
        ]
       ],
       "shape": {
        "columns": 1,
        "rows": 16
       }
      },
      "text/plain": [
       "Order Id             int64\n",
       "Order Date          object\n",
       "Ship Mode           object\n",
       "Segment             object\n",
       "Country             object\n",
       "City                object\n",
       "State               object\n",
       "Postal Code          int64\n",
       "Region              object\n",
       "Category            object\n",
       "Sub Category        object\n",
       "Product Id          object\n",
       "cost price           int64\n",
       "List Price           int64\n",
       "Quantity             int64\n",
       "Discount Percent     int64\n",
       "dtype: object"
      ]
     },
     "execution_count": 23,
     "metadata": {},
     "output_type": "execute_result"
    }
   ],
   "source": [
    "df.dtypes"
   ]
  },
  {
   "cell_type": "markdown",
   "id": "5a210a97",
   "metadata": {},
   "source": [
    "Each column has the correct datatype except the `order_date` so we will convert it into datetime datatype"
   ]
  },
  {
   "cell_type": "code",
   "execution_count": 24,
   "id": "4d3c3ac9",
   "metadata": {},
   "outputs": [
    {
     "data": {
      "application/vnd.microsoft.datawrangler.viewer.v0+json": {
       "columns": [
        {
         "name": "index",
         "rawType": "object",
         "type": "string"
        },
        {
         "name": "0",
         "rawType": "object",
         "type": "unknown"
        }
       ],
       "ref": "c4f10d02-72e2-46c3-be09-640c11cd195e",
       "rows": [
        [
         "Order Id",
         "int64"
        ],
        [
         "Order Date",
         "datetime64[ns]"
        ],
        [
         "Ship Mode",
         "object"
        ],
        [
         "Segment",
         "object"
        ],
        [
         "Country",
         "object"
        ],
        [
         "City",
         "object"
        ],
        [
         "State",
         "object"
        ],
        [
         "Postal Code",
         "int64"
        ],
        [
         "Region",
         "object"
        ],
        [
         "Category",
         "object"
        ],
        [
         "Sub Category",
         "object"
        ],
        [
         "Product Id",
         "object"
        ],
        [
         "cost price",
         "int64"
        ],
        [
         "List Price",
         "int64"
        ],
        [
         "Quantity",
         "int64"
        ],
        [
         "Discount Percent",
         "int64"
        ]
       ],
       "shape": {
        "columns": 1,
        "rows": 16
       }
      },
      "text/plain": [
       "Order Id                     int64\n",
       "Order Date          datetime64[ns]\n",
       "Ship Mode                   object\n",
       "Segment                     object\n",
       "Country                     object\n",
       "City                        object\n",
       "State                       object\n",
       "Postal Code                  int64\n",
       "Region                      object\n",
       "Category                    object\n",
       "Sub Category                object\n",
       "Product Id                  object\n",
       "cost price                   int64\n",
       "List Price                   int64\n",
       "Quantity                     int64\n",
       "Discount Percent             int64\n",
       "dtype: object"
      ]
     },
     "execution_count": 24,
     "metadata": {},
     "output_type": "execute_result"
    }
   ],
   "source": [
    "df['Order Date'] = pd.to_datetime(df['Order Date'], format =\"%Y-%m-%d\")\n",
    "df.dtypes"
   ]
  },
  {
   "cell_type": "code",
   "execution_count": 25,
   "id": "51db7cbe",
   "metadata": {},
   "outputs": [
    {
     "data": {
      "text/plain": [
       "array(['Second Class', 'Standard Class', 'Not Available', 'unknown',\n",
       "       'First Class', nan, 'Same Day'], dtype=object)"
      ]
     },
     "execution_count": 25,
     "metadata": {},
     "output_type": "execute_result"
    }
   ],
   "source": [
    "df['Ship Mode'].unique()"
   ]
  },
  {
   "cell_type": "markdown",
   "id": "22219f79",
   "metadata": {},
   "source": [
    "In the above cell we noticed that there are values which should be treated as null i.e. 'Not Available', 'unknown'"
   ]
  },
  {
   "cell_type": "code",
   "execution_count": 26,
   "id": "0788c88b",
   "metadata": {},
   "outputs": [
    {
     "data": {
      "text/plain": [
       "array(['Second Class', 'Standard Class', nan, 'First Class', 'Same Day'],\n",
       "      dtype=object)"
      ]
     },
     "execution_count": 26,
     "metadata": {},
     "output_type": "execute_result"
    }
   ],
   "source": [
    "df = pd.read_csv('orders.csv', na_values = ['Not Available','unknown'])\n",
    "df['Ship Mode'].unique()"
   ]
  },
  {
   "cell_type": "code",
   "execution_count": 27,
   "id": "45a04891",
   "metadata": {},
   "outputs": [
    {
     "data": {
      "text/plain": [
       "Index(['Order Id', 'Order Date', 'Ship Mode', 'Segment', 'Country', 'City',\n",
       "       'State', 'Postal Code', 'Region', 'Category', 'Sub Category',\n",
       "       'Product Id', 'cost price', 'List Price', 'Quantity',\n",
       "       'Discount Percent'],\n",
       "      dtype='object')"
      ]
     },
     "execution_count": 27,
     "metadata": {},
     "output_type": "execute_result"
    }
   ],
   "source": [
    "df.columns"
   ]
  },
  {
   "cell_type": "markdown",
   "id": "ffb6d329",
   "metadata": {},
   "source": [
    "We will convert the column names into lowercase and separated by an `_` underscore"
   ]
  },
  {
   "cell_type": "code",
   "execution_count": 28,
   "id": "f82e4135",
   "metadata": {},
   "outputs": [
    {
     "name": "stdout",
     "output_type": "stream",
     "text": [
      "Index(['order_id', 'order_date', 'ship_mode', 'segment', 'country', 'city',\n",
      "       'state', 'postal_code', 'region', 'category', 'sub_category',\n",
      "       'product_id', 'cost_price', 'list_price', 'quantity',\n",
      "       'discount_percent'],\n",
      "      dtype='object')\n"
     ]
    }
   ],
   "source": [
    "df.columns = df.columns.str.lower()\n",
    "df.columns = df.columns.str.replace(' ','_')\n",
    "\n",
    "df.to_csv('orders_cleaned.csv', index=False)\n",
    "\n",
    "df = pd.read_csv('orders_cleaned.csv')\n",
    "print(df.columns)"
   ]
  },
  {
   "cell_type": "markdown",
   "id": "d7c099f0",
   "metadata": {},
   "source": [
    "## <b>Feature Engineering</b>"
   ]
  },
  {
   "cell_type": "markdown",
   "id": "face1d51",
   "metadata": {},
   "source": [
    "Now we will create new features (columns): `discount`, `sale_price` and `profit`"
   ]
  },
  {
   "cell_type": "code",
   "execution_count": 29,
   "id": "8dfd2b1a",
   "metadata": {},
   "outputs": [
    {
     "data": {
      "text/plain": [
       "Index(['order_id', 'order_date', 'ship_mode', 'segment', 'country', 'city',\n",
       "       'state', 'postal_code', 'region', 'category', 'sub_category',\n",
       "       'product_id', 'cost_price', 'list_price', 'quantity',\n",
       "       'discount_percent'],\n",
       "      dtype='object')"
      ]
     },
     "execution_count": 29,
     "metadata": {},
     "output_type": "execute_result"
    }
   ],
   "source": [
    "df.columns"
   ]
  },
  {
   "cell_type": "code",
   "execution_count": 30,
   "id": "aa08e452",
   "metadata": {},
   "outputs": [
    {
     "data": {
      "application/vnd.microsoft.datawrangler.viewer.v0+json": {
       "columns": [
        {
         "name": "index",
         "rawType": "int64",
         "type": "integer"
        },
        {
         "name": "discount",
         "rawType": "float64",
         "type": "float"
        }
       ],
       "ref": "1137e5c1-812b-42de-a3b3-1011b70fbfff",
       "rows": [
        [
         "0",
         "5.2"
        ],
        [
         "1",
         "21.9"
        ],
        [
         "2",
         "0.5"
        ],
        [
         "3",
         "19.2"
        ],
        [
         "4",
         "1.0"
        ]
       ],
       "shape": {
        "columns": 1,
        "rows": 5
       }
      },
      "text/plain": [
       "0     5.2\n",
       "1    21.9\n",
       "2     0.5\n",
       "3    19.2\n",
       "4     1.0\n",
       "Name: discount, dtype: float64"
      ]
     },
     "execution_count": 30,
     "metadata": {},
     "output_type": "execute_result"
    }
   ],
   "source": [
    "df['discount'] = df['list_price'] * df['discount_percent'] / 100\n",
    "df['discount'].head(5)"
   ]
  },
  {
   "cell_type": "code",
   "execution_count": 31,
   "id": "6b5ec914",
   "metadata": {},
   "outputs": [
    {
     "data": {
      "application/vnd.microsoft.datawrangler.viewer.v0+json": {
       "columns": [
        {
         "name": "index",
         "rawType": "int64",
         "type": "integer"
        },
        {
         "name": "sale_price",
         "rawType": "float64",
         "type": "float"
        }
       ],
       "ref": "a529f8fc-3da0-4335-9533-f421649d049c",
       "rows": [
        [
         "0",
         "254.8"
        ],
        [
         "1",
         "708.1"
        ],
        [
         "2",
         "9.5"
        ],
        [
         "3",
         "940.8"
        ],
        [
         "4",
         "19.0"
        ]
       ],
       "shape": {
        "columns": 1,
        "rows": 5
       }
      },
      "text/plain": [
       "0    254.8\n",
       "1    708.1\n",
       "2      9.5\n",
       "3    940.8\n",
       "4     19.0\n",
       "Name: sale_price, dtype: float64"
      ]
     },
     "execution_count": 31,
     "metadata": {},
     "output_type": "execute_result"
    }
   ],
   "source": [
    "df['sale_price'] = df['list_price'] - df['discount']\n",
    "df['sale_price'].head(5)"
   ]
  },
  {
   "cell_type": "code",
   "execution_count": 32,
   "id": "657a4dbc",
   "metadata": {},
   "outputs": [
    {
     "data": {
      "application/vnd.microsoft.datawrangler.viewer.v0+json": {
       "columns": [
        {
         "name": "index",
         "rawType": "int64",
         "type": "integer"
        },
        {
         "name": "profit",
         "rawType": "float64",
         "type": "float"
        }
       ],
       "ref": "46d25d58-052a-4d43-98f0-37851832a3d9",
       "rows": [
        [
         "0",
         "14.800000000000011"
        ],
        [
         "1",
         "108.10000000000002"
        ],
        [
         "2",
         "-0.5"
        ],
        [
         "3",
         "160.79999999999995"
        ],
        [
         "4",
         "-1.0"
        ]
       ],
       "shape": {
        "columns": 1,
        "rows": 5
       }
      },
      "text/plain": [
       "0     14.8\n",
       "1    108.1\n",
       "2     -0.5\n",
       "3    160.8\n",
       "4     -1.0\n",
       "Name: profit, dtype: float64"
      ]
     },
     "execution_count": 32,
     "metadata": {},
     "output_type": "execute_result"
    }
   ],
   "source": [
    "df['profit'] = df['sale_price'] - df['cost_price']\n",
    "df['profit'].head(5)"
   ]
  },
  {
   "cell_type": "code",
   "execution_count": 33,
   "id": "dc2bfeaf",
   "metadata": {},
   "outputs": [
    {
     "data": {
      "application/vnd.microsoft.datawrangler.viewer.v0+json": {
       "columns": [
        {
         "name": "index",
         "rawType": "int64",
         "type": "integer"
        },
        {
         "name": "order_id",
         "rawType": "int64",
         "type": "integer"
        },
        {
         "name": "order_date",
         "rawType": "object",
         "type": "string"
        },
        {
         "name": "ship_mode",
         "rawType": "object",
         "type": "string"
        },
        {
         "name": "segment",
         "rawType": "object",
         "type": "string"
        },
        {
         "name": "country",
         "rawType": "object",
         "type": "string"
        },
        {
         "name": "city",
         "rawType": "object",
         "type": "string"
        },
        {
         "name": "state",
         "rawType": "object",
         "type": "string"
        },
        {
         "name": "postal_code",
         "rawType": "int64",
         "type": "integer"
        },
        {
         "name": "region",
         "rawType": "object",
         "type": "string"
        },
        {
         "name": "category",
         "rawType": "object",
         "type": "string"
        },
        {
         "name": "sub_category",
         "rawType": "object",
         "type": "string"
        },
        {
         "name": "product_id",
         "rawType": "object",
         "type": "string"
        },
        {
         "name": "cost_price",
         "rawType": "int64",
         "type": "integer"
        },
        {
         "name": "list_price",
         "rawType": "int64",
         "type": "integer"
        },
        {
         "name": "quantity",
         "rawType": "int64",
         "type": "integer"
        },
        {
         "name": "discount_percent",
         "rawType": "int64",
         "type": "integer"
        },
        {
         "name": "discount",
         "rawType": "float64",
         "type": "float"
        },
        {
         "name": "sale_price",
         "rawType": "float64",
         "type": "float"
        },
        {
         "name": "profit",
         "rawType": "float64",
         "type": "float"
        }
       ],
       "ref": "d2fa2f73-f2e2-4c66-a918-ad6b1d247f16",
       "rows": [
        [
         "0",
         "1",
         "2023-03-01",
         "Second Class",
         "Consumer",
         "United States",
         "Henderson",
         "Kentucky",
         "42420",
         "South",
         "Furniture",
         "Bookcases",
         "FUR-BO-10001798",
         "240",
         "260",
         "2",
         "2",
         "5.2",
         "254.8",
         "14.800000000000011"
        ],
        [
         "1",
         "2",
         "2023-08-15",
         "Second Class",
         "Consumer",
         "United States",
         "Henderson",
         "Kentucky",
         "42420",
         "South",
         "Furniture",
         "Chairs",
         "FUR-CH-10000454",
         "600",
         "730",
         "3",
         "3",
         "21.9",
         "708.1",
         "108.10000000000002"
        ],
        [
         "2",
         "3",
         "2023-01-10",
         "Second Class",
         "Corporate",
         "United States",
         "Los Angeles",
         "California",
         "90036",
         "West",
         "Office Supplies",
         "Labels",
         "OFF-LA-10000240",
         "10",
         "10",
         "2",
         "5",
         "0.5",
         "9.5",
         "-0.5"
        ],
        [
         "3",
         "4",
         "2022-06-18",
         "Standard Class",
         "Consumer",
         "United States",
         "Fort Lauderdale",
         "Florida",
         "33311",
         "South",
         "Furniture",
         "Tables",
         "FUR-TA-10000577",
         "780",
         "960",
         "5",
         "2",
         "19.2",
         "940.8",
         "160.79999999999995"
        ],
        [
         "4",
         "5",
         "2022-07-13",
         "Standard Class",
         "Consumer",
         "United States",
         "Fort Lauderdale",
         "Florida",
         "33311",
         "South",
         "Office Supplies",
         "Storage",
         "OFF-ST-10000760",
         "20",
         "20",
         "2",
         "5",
         "1.0",
         "19.0",
         "-1.0"
        ]
       ],
       "shape": {
        "columns": 19,
        "rows": 5
       }
      },
      "text/html": [
       "<div>\n",
       "<style scoped>\n",
       "    .dataframe tbody tr th:only-of-type {\n",
       "        vertical-align: middle;\n",
       "    }\n",
       "\n",
       "    .dataframe tbody tr th {\n",
       "        vertical-align: top;\n",
       "    }\n",
       "\n",
       "    .dataframe thead th {\n",
       "        text-align: right;\n",
       "    }\n",
       "</style>\n",
       "<table border=\"1\" class=\"dataframe\">\n",
       "  <thead>\n",
       "    <tr style=\"text-align: right;\">\n",
       "      <th></th>\n",
       "      <th>order_id</th>\n",
       "      <th>order_date</th>\n",
       "      <th>ship_mode</th>\n",
       "      <th>segment</th>\n",
       "      <th>country</th>\n",
       "      <th>city</th>\n",
       "      <th>state</th>\n",
       "      <th>postal_code</th>\n",
       "      <th>region</th>\n",
       "      <th>category</th>\n",
       "      <th>sub_category</th>\n",
       "      <th>product_id</th>\n",
       "      <th>cost_price</th>\n",
       "      <th>list_price</th>\n",
       "      <th>quantity</th>\n",
       "      <th>discount_percent</th>\n",
       "      <th>discount</th>\n",
       "      <th>sale_price</th>\n",
       "      <th>profit</th>\n",
       "    </tr>\n",
       "  </thead>\n",
       "  <tbody>\n",
       "    <tr>\n",
       "      <th>0</th>\n",
       "      <td>1</td>\n",
       "      <td>2023-03-01</td>\n",
       "      <td>Second Class</td>\n",
       "      <td>Consumer</td>\n",
       "      <td>United States</td>\n",
       "      <td>Henderson</td>\n",
       "      <td>Kentucky</td>\n",
       "      <td>42420</td>\n",
       "      <td>South</td>\n",
       "      <td>Furniture</td>\n",
       "      <td>Bookcases</td>\n",
       "      <td>FUR-BO-10001798</td>\n",
       "      <td>240</td>\n",
       "      <td>260</td>\n",
       "      <td>2</td>\n",
       "      <td>2</td>\n",
       "      <td>5.2</td>\n",
       "      <td>254.8</td>\n",
       "      <td>14.8</td>\n",
       "    </tr>\n",
       "    <tr>\n",
       "      <th>1</th>\n",
       "      <td>2</td>\n",
       "      <td>2023-08-15</td>\n",
       "      <td>Second Class</td>\n",
       "      <td>Consumer</td>\n",
       "      <td>United States</td>\n",
       "      <td>Henderson</td>\n",
       "      <td>Kentucky</td>\n",
       "      <td>42420</td>\n",
       "      <td>South</td>\n",
       "      <td>Furniture</td>\n",
       "      <td>Chairs</td>\n",
       "      <td>FUR-CH-10000454</td>\n",
       "      <td>600</td>\n",
       "      <td>730</td>\n",
       "      <td>3</td>\n",
       "      <td>3</td>\n",
       "      <td>21.9</td>\n",
       "      <td>708.1</td>\n",
       "      <td>108.1</td>\n",
       "    </tr>\n",
       "    <tr>\n",
       "      <th>2</th>\n",
       "      <td>3</td>\n",
       "      <td>2023-01-10</td>\n",
       "      <td>Second Class</td>\n",
       "      <td>Corporate</td>\n",
       "      <td>United States</td>\n",
       "      <td>Los Angeles</td>\n",
       "      <td>California</td>\n",
       "      <td>90036</td>\n",
       "      <td>West</td>\n",
       "      <td>Office Supplies</td>\n",
       "      <td>Labels</td>\n",
       "      <td>OFF-LA-10000240</td>\n",
       "      <td>10</td>\n",
       "      <td>10</td>\n",
       "      <td>2</td>\n",
       "      <td>5</td>\n",
       "      <td>0.5</td>\n",
       "      <td>9.5</td>\n",
       "      <td>-0.5</td>\n",
       "    </tr>\n",
       "    <tr>\n",
       "      <th>3</th>\n",
       "      <td>4</td>\n",
       "      <td>2022-06-18</td>\n",
       "      <td>Standard Class</td>\n",
       "      <td>Consumer</td>\n",
       "      <td>United States</td>\n",
       "      <td>Fort Lauderdale</td>\n",
       "      <td>Florida</td>\n",
       "      <td>33311</td>\n",
       "      <td>South</td>\n",
       "      <td>Furniture</td>\n",
       "      <td>Tables</td>\n",
       "      <td>FUR-TA-10000577</td>\n",
       "      <td>780</td>\n",
       "      <td>960</td>\n",
       "      <td>5</td>\n",
       "      <td>2</td>\n",
       "      <td>19.2</td>\n",
       "      <td>940.8</td>\n",
       "      <td>160.8</td>\n",
       "    </tr>\n",
       "    <tr>\n",
       "      <th>4</th>\n",
       "      <td>5</td>\n",
       "      <td>2022-07-13</td>\n",
       "      <td>Standard Class</td>\n",
       "      <td>Consumer</td>\n",
       "      <td>United States</td>\n",
       "      <td>Fort Lauderdale</td>\n",
       "      <td>Florida</td>\n",
       "      <td>33311</td>\n",
       "      <td>South</td>\n",
       "      <td>Office Supplies</td>\n",
       "      <td>Storage</td>\n",
       "      <td>OFF-ST-10000760</td>\n",
       "      <td>20</td>\n",
       "      <td>20</td>\n",
       "      <td>2</td>\n",
       "      <td>5</td>\n",
       "      <td>1.0</td>\n",
       "      <td>19.0</td>\n",
       "      <td>-1.0</td>\n",
       "    </tr>\n",
       "  </tbody>\n",
       "</table>\n",
       "</div>"
      ],
      "text/plain": [
       "   order_id  order_date       ship_mode    segment        country  \\\n",
       "0         1  2023-03-01    Second Class   Consumer  United States   \n",
       "1         2  2023-08-15    Second Class   Consumer  United States   \n",
       "2         3  2023-01-10    Second Class  Corporate  United States   \n",
       "3         4  2022-06-18  Standard Class   Consumer  United States   \n",
       "4         5  2022-07-13  Standard Class   Consumer  United States   \n",
       "\n",
       "              city       state  postal_code region         category  \\\n",
       "0        Henderson    Kentucky        42420  South        Furniture   \n",
       "1        Henderson    Kentucky        42420  South        Furniture   \n",
       "2      Los Angeles  California        90036   West  Office Supplies   \n",
       "3  Fort Lauderdale     Florida        33311  South        Furniture   \n",
       "4  Fort Lauderdale     Florida        33311  South  Office Supplies   \n",
       "\n",
       "  sub_category       product_id  cost_price  list_price  quantity  \\\n",
       "0    Bookcases  FUR-BO-10001798         240         260         2   \n",
       "1       Chairs  FUR-CH-10000454         600         730         3   \n",
       "2       Labels  OFF-LA-10000240          10          10         2   \n",
       "3       Tables  FUR-TA-10000577         780         960         5   \n",
       "4      Storage  OFF-ST-10000760          20          20         2   \n",
       "\n",
       "   discount_percent  discount  sale_price  profit  \n",
       "0                 2       5.2       254.8    14.8  \n",
       "1                 3      21.9       708.1   108.1  \n",
       "2                 5       0.5         9.5    -0.5  \n",
       "3                 2      19.2       940.8   160.8  \n",
       "4                 5       1.0        19.0    -1.0  "
      ]
     },
     "execution_count": 33,
     "metadata": {},
     "output_type": "execute_result"
    }
   ],
   "source": [
    "df.head(5)"
   ]
  },
  {
   "cell_type": "markdown",
   "id": "5f86e3af",
   "metadata": {},
   "source": [
    "## <b>Data Cleaning</b>"
   ]
  },
  {
   "cell_type": "markdown",
   "id": "57c0066e",
   "metadata": {},
   "source": [
    "Dropping unwanted columns"
   ]
  },
  {
   "cell_type": "code",
   "execution_count": 34,
   "id": "00de321f",
   "metadata": {},
   "outputs": [
    {
     "data": {
      "application/vnd.microsoft.datawrangler.viewer.v0+json": {
       "columns": [
        {
         "name": "index",
         "rawType": "int64",
         "type": "integer"
        },
        {
         "name": "order_id",
         "rawType": "int64",
         "type": "integer"
        },
        {
         "name": "order_date",
         "rawType": "object",
         "type": "string"
        },
        {
         "name": "ship_mode",
         "rawType": "object",
         "type": "string"
        },
        {
         "name": "segment",
         "rawType": "object",
         "type": "string"
        },
        {
         "name": "country",
         "rawType": "object",
         "type": "string"
        },
        {
         "name": "city",
         "rawType": "object",
         "type": "string"
        },
        {
         "name": "state",
         "rawType": "object",
         "type": "string"
        },
        {
         "name": "postal_code",
         "rawType": "int64",
         "type": "integer"
        },
        {
         "name": "region",
         "rawType": "object",
         "type": "string"
        },
        {
         "name": "category",
         "rawType": "object",
         "type": "string"
        },
        {
         "name": "sub_category",
         "rawType": "object",
         "type": "string"
        },
        {
         "name": "product_id",
         "rawType": "object",
         "type": "string"
        },
        {
         "name": "quantity",
         "rawType": "int64",
         "type": "integer"
        },
        {
         "name": "discount",
         "rawType": "float64",
         "type": "float"
        },
        {
         "name": "sale_price",
         "rawType": "float64",
         "type": "float"
        },
        {
         "name": "profit",
         "rawType": "float64",
         "type": "float"
        }
       ],
       "ref": "4a6e9346-3ea6-403e-a63b-1ec6c67385d5",
       "rows": [
        [
         "0",
         "1",
         "2023-03-01",
         "Second Class",
         "Consumer",
         "United States",
         "Henderson",
         "Kentucky",
         "42420",
         "South",
         "Furniture",
         "Bookcases",
         "FUR-BO-10001798",
         "2",
         "5.2",
         "254.8",
         "14.800000000000011"
        ],
        [
         "1",
         "2",
         "2023-08-15",
         "Second Class",
         "Consumer",
         "United States",
         "Henderson",
         "Kentucky",
         "42420",
         "South",
         "Furniture",
         "Chairs",
         "FUR-CH-10000454",
         "3",
         "21.9",
         "708.1",
         "108.10000000000002"
        ],
        [
         "2",
         "3",
         "2023-01-10",
         "Second Class",
         "Corporate",
         "United States",
         "Los Angeles",
         "California",
         "90036",
         "West",
         "Office Supplies",
         "Labels",
         "OFF-LA-10000240",
         "2",
         "0.5",
         "9.5",
         "-0.5"
        ],
        [
         "3",
         "4",
         "2022-06-18",
         "Standard Class",
         "Consumer",
         "United States",
         "Fort Lauderdale",
         "Florida",
         "33311",
         "South",
         "Furniture",
         "Tables",
         "FUR-TA-10000577",
         "5",
         "19.2",
         "940.8",
         "160.79999999999995"
        ],
        [
         "4",
         "5",
         "2022-07-13",
         "Standard Class",
         "Consumer",
         "United States",
         "Fort Lauderdale",
         "Florida",
         "33311",
         "South",
         "Office Supplies",
         "Storage",
         "OFF-ST-10000760",
         "2",
         "1.0",
         "19.0",
         "-1.0"
        ]
       ],
       "shape": {
        "columns": 16,
        "rows": 5
       }
      },
      "text/html": [
       "<div>\n",
       "<style scoped>\n",
       "    .dataframe tbody tr th:only-of-type {\n",
       "        vertical-align: middle;\n",
       "    }\n",
       "\n",
       "    .dataframe tbody tr th {\n",
       "        vertical-align: top;\n",
       "    }\n",
       "\n",
       "    .dataframe thead th {\n",
       "        text-align: right;\n",
       "    }\n",
       "</style>\n",
       "<table border=\"1\" class=\"dataframe\">\n",
       "  <thead>\n",
       "    <tr style=\"text-align: right;\">\n",
       "      <th></th>\n",
       "      <th>order_id</th>\n",
       "      <th>order_date</th>\n",
       "      <th>ship_mode</th>\n",
       "      <th>segment</th>\n",
       "      <th>country</th>\n",
       "      <th>city</th>\n",
       "      <th>state</th>\n",
       "      <th>postal_code</th>\n",
       "      <th>region</th>\n",
       "      <th>category</th>\n",
       "      <th>sub_category</th>\n",
       "      <th>product_id</th>\n",
       "      <th>quantity</th>\n",
       "      <th>discount</th>\n",
       "      <th>sale_price</th>\n",
       "      <th>profit</th>\n",
       "    </tr>\n",
       "  </thead>\n",
       "  <tbody>\n",
       "    <tr>\n",
       "      <th>0</th>\n",
       "      <td>1</td>\n",
       "      <td>2023-03-01</td>\n",
       "      <td>Second Class</td>\n",
       "      <td>Consumer</td>\n",
       "      <td>United States</td>\n",
       "      <td>Henderson</td>\n",
       "      <td>Kentucky</td>\n",
       "      <td>42420</td>\n",
       "      <td>South</td>\n",
       "      <td>Furniture</td>\n",
       "      <td>Bookcases</td>\n",
       "      <td>FUR-BO-10001798</td>\n",
       "      <td>2</td>\n",
       "      <td>5.2</td>\n",
       "      <td>254.8</td>\n",
       "      <td>14.8</td>\n",
       "    </tr>\n",
       "    <tr>\n",
       "      <th>1</th>\n",
       "      <td>2</td>\n",
       "      <td>2023-08-15</td>\n",
       "      <td>Second Class</td>\n",
       "      <td>Consumer</td>\n",
       "      <td>United States</td>\n",
       "      <td>Henderson</td>\n",
       "      <td>Kentucky</td>\n",
       "      <td>42420</td>\n",
       "      <td>South</td>\n",
       "      <td>Furniture</td>\n",
       "      <td>Chairs</td>\n",
       "      <td>FUR-CH-10000454</td>\n",
       "      <td>3</td>\n",
       "      <td>21.9</td>\n",
       "      <td>708.1</td>\n",
       "      <td>108.1</td>\n",
       "    </tr>\n",
       "    <tr>\n",
       "      <th>2</th>\n",
       "      <td>3</td>\n",
       "      <td>2023-01-10</td>\n",
       "      <td>Second Class</td>\n",
       "      <td>Corporate</td>\n",
       "      <td>United States</td>\n",
       "      <td>Los Angeles</td>\n",
       "      <td>California</td>\n",
       "      <td>90036</td>\n",
       "      <td>West</td>\n",
       "      <td>Office Supplies</td>\n",
       "      <td>Labels</td>\n",
       "      <td>OFF-LA-10000240</td>\n",
       "      <td>2</td>\n",
       "      <td>0.5</td>\n",
       "      <td>9.5</td>\n",
       "      <td>-0.5</td>\n",
       "    </tr>\n",
       "    <tr>\n",
       "      <th>3</th>\n",
       "      <td>4</td>\n",
       "      <td>2022-06-18</td>\n",
       "      <td>Standard Class</td>\n",
       "      <td>Consumer</td>\n",
       "      <td>United States</td>\n",
       "      <td>Fort Lauderdale</td>\n",
       "      <td>Florida</td>\n",
       "      <td>33311</td>\n",
       "      <td>South</td>\n",
       "      <td>Furniture</td>\n",
       "      <td>Tables</td>\n",
       "      <td>FUR-TA-10000577</td>\n",
       "      <td>5</td>\n",
       "      <td>19.2</td>\n",
       "      <td>940.8</td>\n",
       "      <td>160.8</td>\n",
       "    </tr>\n",
       "    <tr>\n",
       "      <th>4</th>\n",
       "      <td>5</td>\n",
       "      <td>2022-07-13</td>\n",
       "      <td>Standard Class</td>\n",
       "      <td>Consumer</td>\n",
       "      <td>United States</td>\n",
       "      <td>Fort Lauderdale</td>\n",
       "      <td>Florida</td>\n",
       "      <td>33311</td>\n",
       "      <td>South</td>\n",
       "      <td>Office Supplies</td>\n",
       "      <td>Storage</td>\n",
       "      <td>OFF-ST-10000760</td>\n",
       "      <td>2</td>\n",
       "      <td>1.0</td>\n",
       "      <td>19.0</td>\n",
       "      <td>-1.0</td>\n",
       "    </tr>\n",
       "  </tbody>\n",
       "</table>\n",
       "</div>"
      ],
      "text/plain": [
       "   order_id  order_date       ship_mode    segment        country  \\\n",
       "0         1  2023-03-01    Second Class   Consumer  United States   \n",
       "1         2  2023-08-15    Second Class   Consumer  United States   \n",
       "2         3  2023-01-10    Second Class  Corporate  United States   \n",
       "3         4  2022-06-18  Standard Class   Consumer  United States   \n",
       "4         5  2022-07-13  Standard Class   Consumer  United States   \n",
       "\n",
       "              city       state  postal_code region         category  \\\n",
       "0        Henderson    Kentucky        42420  South        Furniture   \n",
       "1        Henderson    Kentucky        42420  South        Furniture   \n",
       "2      Los Angeles  California        90036   West  Office Supplies   \n",
       "3  Fort Lauderdale     Florida        33311  South        Furniture   \n",
       "4  Fort Lauderdale     Florida        33311  South  Office Supplies   \n",
       "\n",
       "  sub_category       product_id  quantity  discount  sale_price  profit  \n",
       "0    Bookcases  FUR-BO-10001798         2       5.2       254.8    14.8  \n",
       "1       Chairs  FUR-CH-10000454         3      21.9       708.1   108.1  \n",
       "2       Labels  OFF-LA-10000240         2       0.5         9.5    -0.5  \n",
       "3       Tables  FUR-TA-10000577         5      19.2       940.8   160.8  \n",
       "4      Storage  OFF-ST-10000760         2       1.0        19.0    -1.0  "
      ]
     },
     "execution_count": 34,
     "metadata": {},
     "output_type": "execute_result"
    }
   ],
   "source": [
    "df.drop(columns = ['list_price','cost_price','discount_percent'], inplace = True)\n",
    "df.head(5)"
   ]
  },
  {
   "cell_type": "markdown",
   "id": "293dbe2a",
   "metadata": {},
   "source": [
    "## <b>Connecting to PostgreSQL</b>"
   ]
  },
  {
   "cell_type": "code",
   "execution_count": 35,
   "id": "b1e057dd",
   "metadata": {},
   "outputs": [
    {
     "data": {
      "text/plain": [
       "994"
      ]
     },
     "execution_count": 35,
     "metadata": {},
     "output_type": "execute_result"
    }
   ],
   "source": [
    "# %pip install sqlalchemy psycopg2-binary \n",
    "from sqlalchemy import create_engine\n",
    "from urllib.parse import quote_plus\n",
    "\n",
    "# Credentials\n",
    "user = \"postgres\"\n",
    "password = quote_plus(\"Postgresql@123\")  # This encodes the special character '@'\n",
    "host = \"localhost\"\n",
    "port = \"5432\"\n",
    "database = \"retail_store\"\n",
    "\n",
    "# SQLAlchemy engine with encoded password\n",
    "engine = create_engine(f'postgresql+psycopg2://{user}:{password}@{host}:{port}/{database}')\n",
    "\n",
    "# Now push dataframe to PostgreSQL\n",
    "df.to_sql(\"Orders\", con=engine, if_exists=\"replace\", index=False)"
   ]
  },
  {
   "cell_type": "markdown",
   "id": "3feb2dcd",
   "metadata": {},
   "source": [
    "## <b>Key Business Questions</b>"
   ]
  },
  {
   "cell_type": "markdown",
   "id": "49888dcb",
   "metadata": {},
   "source": [
    "<b>Question 1:</b> What is the total sales and profit over time (monthly/yearly)?"
   ]
  },
  {
   "cell_type": "code",
   "execution_count": 36,
   "id": "a0fe3ece",
   "metadata": {},
   "outputs": [
    {
     "data": {
      "image/png": "[encoded data removed]",
      "text/plain": [
       "<Figure size 1200x500 with 1 Axes>"
      ]
     },
     "metadata": {},
     "output_type": "display_data"
    }
   ],
   "source": [
    "import matplotlib.pyplot as plt\n",
    "\n",
    "query = \"\"\"\n",
    "SELECT\n",
    "    DATE_TRUNC('month', \"order_date\"::date) AS \"month\",\n",
    "    ROUND(SUM(\"sale_price\")::numeric, 2) AS \"total_sales\",\n",
    "    ROUND(SUM(\"profit\")::numeric, 2) AS \"total_profit\"\n",
    "FROM \"Orders\"\n",
    "GROUP BY DATE_TRUNC('month', \"order_date\"::date)\n",
    "ORDER BY \"month\";\n",
    "\"\"\"\n",
    "\n",
    "df_monthly = pd.read_sql(query, con=engine)\n",
    "\n",
    "# Plotting\n",
    "plt.figure(figsize=(12,5))\n",
    "plt.plot(df_monthly['month'], df_monthly['total_sales'], label='Sales', marker='o')\n",
    "plt.plot(df_monthly['month'], df_monthly['total_profit'], label='Profit', marker='o')\n",
    "plt.title(\"Monthly Sales and Profit Trend\")\n",
    "plt.xlabel(\"Month\")\n",
    "plt.ylabel(\"Amount ($)\")\n",
    "plt.legend()\n",
    "plt.grid(True)\n",
    "plt.tight_layout()\n",
    "plt.show()"
   ]
  },
  {
   "cell_type": "markdown",
   "id": "5a926392",
   "metadata": {},
   "source": [
    "<i>Insight:</i> <br><br>Sales and profit change month to month. Some months show high sales, while others are low, which could be due to seasonal trends or promotions."
   ]
  },
  {
   "cell_type": "markdown",
   "id": "0ab8e5c2",
   "metadata": {},
   "source": [
    "<b>Question 2.</b> Which regions are generating the highest profit and sales?"
   ]
  },
  {
   "cell_type": "code",
   "execution_count": 37,
   "id": "12847724",
   "metadata": {},
   "outputs": [
    {
     "data": {
      "image/png": "[encoded data removed]",
      "text/plain": [
       "<Figure size 1200x500 with 1 Axes>"
      ]
     },
     "metadata": {},
     "output_type": "display_data"
    }
   ],
   "source": [
    "query = \"\"\"\n",
    "SELECT\n",
    "    \"region\",\n",
    "    ROUND(SUM(\"sale_price\")::numeric, 2) AS \"total_sales\",\n",
    "    ROUND(SUM(\"profit\")::numeric, 2) AS \"total_profit\"\n",
    "FROM \"Orders\"\n",
    "GROUP BY \"region\"\n",
    "ORDER BY \"total_sales\" DESC;\n",
    "\"\"\"\n",
    "\n",
    "df_region = pd.read_sql(query, con=engine)\n",
    "\n",
    "# Plotting Sales and Profit side-by-side\n",
    "import matplotlib.pyplot as plt\n",
    "import numpy as np\n",
    "\n",
    "plt.figure(figsize=(12,5))\n",
    "bar_width = 0.35\n",
    "x = np.arange(len(df_region['region']))\n",
    "\n",
    "plt.bar(x, df_region['total_sales'], width=bar_width, label='Sales')\n",
    "plt.bar(x + bar_width, df_region['total_profit'], width=bar_width, label='Profit')\n",
    "\n",
    "plt.xticks(x + bar_width/2, df_region['region'])\n",
    "plt.ylabel('Amount ($)')\n",
    "plt.title('Sales and Profit by Region')\n",
    "plt.legend()\n",
    "plt.tight_layout()\n",
    "plt.show()"
   ]
  },
  {
   "cell_type": "markdown",
   "id": "a36c5bfe",
   "metadata": {},
   "source": [
    "<i>Insight:</i> <br><br> Some regions like the West or East have higher sales and profit than others. This might be because of more customers or bigger cities in those areas."
   ]
  },
  {
   "cell_type": "markdown",
   "id": "9de50015",
   "metadata": {},
   "source": [
    "<b>Question 3.</b> Most profitable categories and sub-categories?"
   ]
  },
  {
   "cell_type": "code",
   "execution_count": 38,
   "id": "78eeb843",
   "metadata": {},
   "outputs": [
    {
     "data": {
      "image/png": "[encoded data removed]",
      "text/plain": [
       "<Figure size 1200x500 with 1 Axes>"
      ]
     },
     "metadata": {},
     "output_type": "display_data"
    }
   ],
   "source": [
    "query = \"\"\"\n",
    "SELECT\n",
    "    \"category\",\n",
    "    \"sub_category\",\n",
    "    ROUND(SUM(\"profit\")::numeric, 2) AS \"total_profit\"\n",
    "FROM\n",
    "    \"Orders\"\n",
    "GROUP BY\n",
    "    \"category\", \"sub_category\"\n",
    "ORDER BY\n",
    "    \"total_profit\" DESC;\n",
    "\"\"\"\n",
    "\n",
    "df_cat = pd.read_sql(query, con=engine)\n",
    "\n",
    "# Plot top 10 sub-categories by profit\n",
    "top10 = df_cat.head(10)\n",
    "import matplotlib.pyplot as plt\n",
    "\n",
    "plt.figure(figsize=(12,5))\n",
    "plt.barh(top10['sub_category'] + \" (\" + top10['category'] + \")\", top10['total_profit'], color='skyblue')\n",
    "plt.xlabel('Total Profit ($)')\n",
    "plt.title('Top 10 Most Profitable Sub-Categories')\n",
    "plt.gca().invert_yaxis()  # Highest profit at top\n",
    "plt.tight_layout()\n",
    "plt.show()"
   ]
  },
  {
   "cell_type": "markdown",
   "id": "a0a17efd",
   "metadata": {},
   "source": [
    "<i>Insight:</i> <br><br>Sub-categories like Chair and Phones are giving the highest profit. Category like Technology seem to perform better overall."
   ]
  },
  {
   "cell_type": "markdown",
   "id": "daca249b",
   "metadata": {},
   "source": [
    "<b>Question 4.</b> Which ship modes are most used and profitable"
   ]
  },
  {
   "cell_type": "code",
   "execution_count": 39,
   "id": "e4203966",
   "metadata": {},
   "outputs": [
    {
     "data": {
      "image/png": "[encoded data removed]",
      "text/plain": [
       "<Figure size 1200x500 with 2 Axes>"
      ]
     },
     "metadata": {},
     "output_type": "display_data"
    }
   ],
   "source": [
    "query = \"\"\"\n",
    "SELECT\n",
    "    \"ship_mode\",\n",
    "    COUNT(*) AS total_orders,\n",
    "    ROUND(SUM(\"sale_price\")::numeric, 2) AS \"total_sales\",\n",
    "    ROUND(SUM(\"profit\")::numeric, 2) AS \"total_profit\"\n",
    "FROM \"Orders\"\n",
    "GROUP BY \"ship_mode\"\n",
    "ORDER BY \"total_orders\" DESC;\n",
    "\"\"\"\n",
    "df_ship = pd.read_sql(query, con=engine)\n",
    "\n",
    "# Handle missing values in ship_mode\n",
    "df_ship = df_ship.dropna(subset=['ship_mode'])\n",
    "\n",
    "# Plot\n",
    "import matplotlib.pyplot as plt\n",
    "\n",
    "fig, ax1 = plt.subplots(figsize=(12,5))\n",
    "\n",
    "# Bar plot for order count\n",
    "ax1.bar(df_ship['ship_mode'], df_ship['total_orders'], color='lightblue', label='Total Orders')\n",
    "ax1.set_ylabel('Total Orders', color='blue')\n",
    "\n",
    "# Line plot for total profit\n",
    "ax2 = ax1.twinx()\n",
    "ax2.plot(df_ship['ship_mode'], df_ship['total_profit'], color='red', marker='o', label='Total Profit')\n",
    "ax2.set_ylabel('Total Profit ($)', color='red')\n",
    "\n",
    "plt.title('Ship Mode Usage vs Profit')\n",
    "plt.xticks(rotation=15)\n",
    "plt.tight_layout()\n",
    "plt.show()\n"
   ]
  },
  {
   "cell_type": "markdown",
   "id": "46ccd462",
   "metadata": {},
   "source": [
    "<i>Insight:</i> <br><br> Standard Class is the most used shipping method. Some other shipping modes like Second Class also bring in good profit, even if they are not used as often."
   ]
  },
  {
   "cell_type": "markdown",
   "id": "6c6ebc4a",
   "metadata": {},
   "source": [
    "<b>Question 5:</b> Top-performing cities/states by sales and profit."
   ]
  },
  {
   "cell_type": "code",
   "execution_count": 40,
   "id": "3d6d62ee",
   "metadata": {},
   "outputs": [
    {
     "data": {
      "image/png": "[encoded data removed]",
      "text/plain": [
       "<Figure size 1200x500 with 1 Axes>"
      ]
     },
     "metadata": {},
     "output_type": "display_data"
    }
   ],
   "source": [
    "query = \"\"\"\n",
    "SELECT\n",
    "    \"state\",\n",
    "    ROUND(SUM(\"sale_price\")::numeric, 2) AS \"total_sales\",\n",
    "    ROUND(SUM(\"profit\")::numeric, 2) AS \"total_profit\"\n",
    "FROM \"Orders\"\n",
    "GROUP BY \"state\"\n",
    "ORDER BY \"total_sales\" DESC\n",
    "LIMIT 10;\n",
    "\"\"\"\n",
    "\n",
    "df_state = pd.read_sql(query, con=engine)\n",
    "\n",
    "# Plot\n",
    "import matplotlib.pyplot as plt\n",
    "\n",
    "plt.figure(figsize=(12,5))\n",
    "plt.barh(df_state['state'], df_state['total_sales'], color='lightgreen', label='Total Sales')\n",
    "plt.xlabel('Total Sales ($)')\n",
    "plt.title('Top 10 States by Sales')\n",
    "plt.gca().invert_yaxis()\n",
    "plt.tight_layout()\n",
    "plt.show()\n"
   ]
  },
  {
   "cell_type": "markdown",
   "id": "597312b1",
   "metadata": {},
   "source": [
    "<i>Insight:</i><br><br> California and New York are the leading states having the highest sales. However, some other states also contribute well to the profit even with lower sales numbers."
   ]
  },
  {
   "cell_type": "markdown",
   "id": "b435750c",
   "metadata": {},
   "source": [
    "<b>Question 6:</b> Impact of discount on profit"
   ]
  },
  {
   "cell_type": "code",
   "execution_count": 41,
   "id": "3e2bbe15",
   "metadata": {},
   "outputs": [
    {
     "data": {
      "image/png": "[encoded data removed]",
      "text/plain": [
       "<Figure size 1200x500 with 1 Axes>"
      ]
     },
     "metadata": {},
     "output_type": "display_data"
    }
   ],
   "source": [
    "from sqlalchemy import text\n",
    "\n",
    "query = text(\"\"\"\n",
    "SELECT\n",
    "    CASE\n",
    "        WHEN \"discount\" = 0 THEN '0%'\n",
    "        WHEN \"discount\" > 0 AND \"discount\" <= 0.1 THEN '0–10%'\n",
    "        WHEN \"discount\" > 0.1 AND \"discount\" <= 0.2 THEN '10–20%'\n",
    "        WHEN \"discount\" > 0.2 AND \"discount\" <= 0.3 THEN '20–30%'\n",
    "        WHEN \"discount\" > 0.3 AND \"discount\" <= 0.4 THEN '30–40%'\n",
    "        WHEN \"discount\" > 0.4 THEN '>40%'\n",
    "    END AS \"discount_range\",\n",
    "    ROUND(AVG(\"profit\")::numeric, 2) AS \"avg_profit\",\n",
    "    COUNT(*) AS \"order_count\"\n",
    "FROM \"Orders\"\n",
    "GROUP BY \"discount_range\"\n",
    "ORDER BY \"discount_range\";\n",
    "\"\"\")\n",
    "\n",
    "df_discount = pd.read_sql(query, con=engine)\n",
    "\n",
    "# Plot\n",
    "import matplotlib.pyplot as plt\n",
    "\n",
    "plt.figure(figsize=(12, 5))\n",
    "plt.bar(df_discount['discount_range'], df_discount['avg_profit'], color='coral')\n",
    "plt.xlabel('Discount Range')\n",
    "plt.ylabel('Average Profit ($)')\n",
    "plt.title('Impact of Discount on Average Profit')\n",
    "plt.axhline(0, color='black', linewidth=0.8, linestyle='--')  # profit break-even line\n",
    "plt.tight_layout()\n",
    "plt.show()\n"
   ]
  },
  {
   "cell_type": "markdown",
   "id": "fe3f0417",
   "metadata": {},
   "source": [
    "<i>Insight</i> <br><br> Giving a higher discount usually reduces the profit. Small discounts are okay, but large discounts can lead to very low or even negative profits."
   ]
  },
  {
   "cell_type": "markdown",
   "id": "5cbdc2aa",
   "metadata": {},
   "source": [
    "<b>Question 7:</b> Category-wise Sales and Profit Overview"
   ]
  },
  {
   "cell_type": "code",
   "execution_count": 42,
   "id": "99b4776e",
   "metadata": {},
   "outputs": [
    {
     "data": {
      "text/plain": [
       "([<matplotlib.axis.XTick at 0x17fa041f590>,\n",
       "  <matplotlib.axis.XTick at 0x17fa03e96d0>,\n",
       "  <matplotlib.axis.XTick at 0x17fa0443cd0>],\n",
       " [Text(0.175, 0, 'Technology'),\n",
       "  Text(1.175, 0, 'Furniture'),\n",
       "  Text(2.175, 0, 'Office Supplies')])"
      ]
     },
     "execution_count": 42,
     "metadata": {},
     "output_type": "execute_result"
    },
    {
     "data": {
      "image/png": "[encoded data removed]",
      "text/plain": [
       "<Figure size 1200x500 with 1 Axes>"
      ]
     },
     "metadata": {},
     "output_type": "display_data"
    }
   ],
   "source": [
    "from sqlalchemy import text\n",
    "\n",
    "query = text(\"\"\"\n",
    "SELECT \n",
    "    \"category\",\n",
    "    ROUND(SUM(\"sale_price\")::numeric, 2) AS \"total_sales\",\n",
    "    ROUND(SUM(\"profit\")::numeric, 2) AS \"total_profit\"\n",
    "FROM \"Orders\"\n",
    "GROUP BY \"category\"\n",
    "ORDER BY \"total_sales\" DESC;\n",
    "\"\"\")\n",
    "\n",
    "df_cat = pd.read_sql(query, con=engine)\n",
    "\n",
    "# Plotting\n",
    "import matplotlib.pyplot as plt\n",
    "import numpy as np\n",
    "\n",
    "plt.figure(figsize=(12,5))\n",
    "bar_width = 0.35\n",
    "index = np.arange(len(df_cat))\n",
    "\n",
    "plt.bar(index, df_cat['total_sales'], bar_width, label='Sales', color='skyblue')\n",
    "plt.bar(index + bar_width, df_cat['total_profit'], bar_width, label='Profit', color='orange')\n",
    "\n",
    "plt.xlabel('Category')\n",
    "plt.ylabel('Amount ($)')\n",
    "plt.title('Sales and Profit by Category')\n",
    "plt.xticks(index + bar_width/2, df_cat['category'])\n"
   ]
  },
  {
   "cell_type": "markdown",
   "id": "237f9823",
   "metadata": {},
   "source": [
    "<i>Insight:</i><br><br> Among all categories, Technology leads in both sales and profit, followed by Furniture and Office Supplies."
   ]
  },
  {
   "cell_type": "markdown",
   "id": "daa0c593",
   "metadata": {},
   "source": [
    "<b>Question 8:</b> Which customer segments bring the most sales and profit?"
   ]
  },
  {
   "cell_type": "code",
   "execution_count": 43,
   "id": "c8f6020d",
   "metadata": {},
   "outputs": [
    {
     "data": {
      "image/png": "[encoded data removed]",
      "text/plain": [
       "<Figure size 1200x500 with 1 Axes>"
      ]
     },
     "metadata": {},
     "output_type": "display_data"
    }
   ],
   "source": [
    "from sqlalchemy import text\n",
    "\n",
    "query = text(\"\"\"\n",
    "SELECT \n",
    "    \"segment\",\n",
    "    COUNT(*) AS \"total_orders\",\n",
    "    ROUND(SUM(\"sale_price\")::numeric, 2) AS \"total_sales\",\n",
    "    ROUND(SUM(\"profit\")::numeric, 2) AS \"total_profit\"\n",
    "FROM \"Orders\"\n",
    "GROUP BY \"segment\"\n",
    "ORDER BY \"total_sales\" DESC;\n",
    "\"\"\")\n",
    "\n",
    "df_segment = pd.read_sql(query, con=engine)\n",
    "\n",
    "# Plotting\n",
    "import matplotlib.pyplot as plt\n",
    "import numpy as np\n",
    "\n",
    "plt.figure(figsize=(12,5))\n",
    "bar_width = 0.35\n",
    "index = np.arange(len(df_segment))\n",
    "\n",
    "plt.bar(index, df_segment['total_sales'], bar_width, label='Sales ($)', color='mediumseagreen')\n",
    "plt.bar(index + bar_width, df_segment['total_profit'], bar_width, label='Profit ($)', color='goldenrod')\n",
    "\n",
    "plt.xlabel('Customer Segment')\n",
    "plt.ylabel('Amount ($)')\n",
    "plt.title('Sales and Profit by Customer Segment')\n",
    "plt.xticks(index + bar_width/2, df_segment['segment'])\n",
    "plt.legend()\n",
    "plt.tight_layout()\n",
    "plt.show()\n"
   ]
  },
  {
   "cell_type": "markdown",
   "id": "91b4ae90",
   "metadata": {},
   "source": [
    "<i>Insight:</i> <br><br> The Consumer segment gives the most sales and profit while Corporate and Home Office segments also perform well in terms of sales.\n"
   ]
  },
  {
   "cell_type": "markdown",
   "id": "64ad3130",
   "metadata": {},
   "source": [
    "<b>Question 9:</b> Does Profit Margin Vary Across Sub-Categories?"
   ]
  },
  {
   "cell_type": "code",
   "execution_count": 44,
   "id": "4fdde687",
   "metadata": {},
   "outputs": [
    {
     "data": {
      "image/png": "[encoded data removed]",
      "text/plain": [
       "<Figure size 1200x500 with 1 Axes>"
      ]
     },
     "metadata": {},
     "output_type": "display_data"
    }
   ],
   "source": [
    "from sqlalchemy import text\n",
    "\n",
    "query = text(\"\"\"\n",
    "SELECT \n",
    "    \"sub_category\",\n",
    "    COUNT(*) AS \"total_orders\",\n",
    "    ROUND(SUM(\"sale_price\")::numeric, 2) AS \"total_sales\",\n",
    "    ROUND(SUM(\"profit\")::numeric, 2) AS \"total_profit\",\n",
    "    ROUND(((SUM(\"profit\") / SUM(\"sale_price\")) * 100) ::numeric, 2) AS \"profit_margin_pct\"\n",
    "FROM \"Orders\"\n",
    "GROUP BY \"sub_category\"\n",
    "ORDER BY \"profit_margin_pct\" DESC;\n",
    "\"\"\")\n",
    "\n",
    "df_margin = pd.read_sql(query, con=engine)\n",
    "\n",
    "# Plotting\n",
    "import matplotlib.pyplot as plt\n",
    "\n",
    "plt.figure(figsize=(12,5))\n",
    "plt.bar(df_margin['sub_category'], df_margin['profit_margin_pct'], color='teal')\n",
    "plt.xticks(rotation=45)\n",
    "plt.ylabel('Profit Margin (%)')\n",
    "plt.title('Profit Margin by Sub-Category')\n",
    "plt.tight_layout()\n",
    "plt.show()\n"
   ]
  },
  {
   "cell_type": "markdown",
   "id": "2c7604a3",
   "metadata": {},
   "source": [
    "<i>Insight:</i><br><br> Yes, Profit Margin is varying in the sub-categories. For example, items like Copiers, Machines, Appliances give better profit compared to items like Binders.\n",
    "\n"
   ]
  }
 ],
 "metadata": {
  "kernelspec": {
   "display_name": "Python 3",
   "language": "python",
   "name": "python3"
  },
  "language_info": {
   "codemirror_mode": {
    "name": "ipython",
    "version": 3
   },
   "file_extension": ".py",
   "mimetype": "text/x-python",
   "name": "python",
   "nbconvert_exporter": "python",
   "pygments_lexer": "ipython3",
   "version": "3.11.0"
  }
 },
 "nbformat": 4,
 "nbformat_minor": 5
}
